{
  "cells": [
    {
      "cell_type": "markdown",
      "metadata": {
        "id": "view-in-github",
        "colab_type": "text"
      },
      "source": [
        "<a href=\"https://colab.research.google.com/github/Vovanson1987/SIAOD/blob/main/%D0%9B%D0%B0%D0%B1%D0%B0_1_%D0%A1%D0%98%D0%90%D0%9E%D0%94_2024.ipynb\" target=\"_parent\"><img src=\"https://colab.research.google.com/assets/colab-badge.svg\" alt=\"Open In Colab\"/></a>"
      ]
    },
    {
      "cell_type": "code",
      "source": [
        "def rod_cutting(prices, n):\n",
        "    # Создаем массив для хранения максимальных цен для каждой длины\n",
        "    max_revenue = [0] * (n + 1)\n",
        "\n",
        "    # Рассчитываем максимальную цену для каждой длины от 1 до n\n",
        "    for length in range(1, n + 1):\n",
        "        max_val = float('-inf')\n",
        "        for cut in range(1, length + 1):\n",
        "            max_val = max(max_val, prices[cut - 1] + max_revenue[length - cut])\n",
        "        max_revenue[length] = max_val\n",
        "\n",
        "    return max_revenue[n]\n",
        "\n",
        "def main():\n",
        "    # Вводим длину стержня\n",
        "    n = int(input(\"Введите длину стержня: \"))\n",
        "    # Вводим цены за куски\n",
        "    prices = list(map(int, input(\"Введите цены за куски через пробел: \").split()))\n",
        "\n",
        "    if len(prices) != n:\n",
        "        print(f\"Ошибка: количество цен должно быть равно {n}.\")\n",
        "        return\n",
        "\n",
        "    # Получаем максимальную цену\n",
        "    max_price = rod_cutting(prices, n)\n",
        "    print(f\"Максимальная цена, которую можно получить: {max_price}\")\n",
        "\n",
        "if __name__ == \"__main__\":\n",
        "    main()"
      ],
      "metadata": {
        "colab": {
          "base_uri": "https://localhost:8080/"
        },
        "id": "06uCPsL7-hBN",
        "outputId": "f7943d78-4d0e-402d-e1ba-7b2e2d502234"
      },
      "execution_count": 4,
      "outputs": [
        {
          "output_type": "stream",
          "name": "stdout",
          "text": [
            "Введите длину стержня: 4\n",
            "Введите цены за куски через пробел: 1 5 8 9\n",
            "Максимальная цена, которую можно получить: 10\n"
          ]
        }
      ]
    },
    {
      "cell_type": "code",
      "source": [
        "def rod_cutting(prices, n):\n",
        "    # Создание массива для сохранения максимальной стоимости для каждой длины\n",
        "    max_revenue = [0] * (n + 1)\n",
        "\n",
        "    # Вычисление максимальной стоимости для каждой длины от 1 до n\n",
        "    for length in range(1, n + 1):\n",
        "        max_val = float('-inf')\n",
        "        for cut in range(1, length + 1):\n",
        "            max_val = max(max_val, prices[cut - 1] + max_revenue[length - cut])\n",
        "        max_revenue[length] = max_val\n",
        "\n",
        "    return max_revenue[n]\n",
        "\n",
        "def main():\n",
        "    # Пример ввода\n",
        "    prices = list(map(int, input(\"Введите цены для каждого кусочка (разделены пробелами): \").split()))\n",
        "    n = len(prices)\n",
        "\n",
        "    # Результат работы алгоритма\n",
        "    max_price = rod_cutting(prices, n)\n",
        "    print(f\"Максимальная цена для стержня длины {n}: {max_price}\")\n",
        "\n",
        "if __name__ == \"__main__\":\n",
        "    main()"
      ],
      "metadata": {
        "colab": {
          "base_uri": "https://localhost:8080/"
        },
        "id": "1f7PxO1r_es3",
        "outputId": "e94d8bf9-10ef-4a65-bf8c-114f6a21d0c1"
      },
      "execution_count": 5,
      "outputs": [
        {
          "output_type": "stream",
          "name": "stdout",
          "text": [
            "Введите цены для каждого кусочка (разделены пробелами): 1 5 10 15\n",
            "Максимальная цена для стержня длины 4: 15\n"
          ]
        }
      ]
    },
    {
      "cell_type": "code",
      "source": [
        "def matrix_chain_order(p):\n",
        "    n = len(p) - 1\n",
        "    m = [[0] * n for _ in range(n)]\n",
        "    s = [[0] * n for _ in range(n)]\n",
        "\n",
        "    # L - длина цепочки\n",
        "    for L in range(2, n + 1):\n",
        "        for i in range(n - L + 1):\n",
        "            j = i + L - 1\n",
        "            m[i][j] = float('inf')\n",
        "            for k in range(i, j):\n",
        "                q = m[i][k] + m[k + 1][j] + p[i] * p[k + 1] * p[j + 1]\n",
        "                if q < m[i][j]:\n",
        "                    m[i][j] = q\n",
        "                    s[i][j] = k\n",
        "\n",
        "    return m, s\n",
        "\n",
        "def print_optimal_parens(s, i, j):\n",
        "    if i == j:\n",
        "        print(f\"A{i+1}\", end=\"\")\n",
        "    else:\n",
        "        print(\"(\", end=\"\")\n",
        "        print_optimal_parens(s, i, s[i][j])\n",
        "        print_optimal_parens(s, s[i][j] + 1, j)\n",
        "        print(\")\", end=\"\")\n",
        "\n",
        "def main():\n",
        "    dimensions = list(map(int, input(\"Введите размеры матриц (через пробел): \").split()))\n",
        "\n",
        "    m, s = matrix_chain_order(dimensions)\n",
        "    print(\"Минимальное число операций умножения:\", m[0][-1])\n",
        "    print(\"Оптимальное скобочное представление:\")\n",
        "    print_optimal_parens(s, 0, len(dimensions) - 2)\n",
        "\n",
        "if __name__ == \"__main__\":\n",
        "    main()"
      ],
      "metadata": {
        "colab": {
          "base_uri": "https://localhost:8080/"
        },
        "id": "tztaV50F_luu",
        "outputId": "f6443723-1a42-41b1-d061-ceeedbd50383"
      },
      "execution_count": 8,
      "outputs": [
        {
          "output_type": "stream",
          "name": "stdout",
          "text": [
            "Введите размеры матриц (через пробел): 1 2 3 4\n",
            "Минимальное число операций умножения: 18\n",
            "Оптимальное скобочное представление:\n",
            "((A1A2)A3)"
          ]
        }
      ]
    },
    {
      "cell_type": "code",
      "source": [
        "def lcs(X, Y):\n",
        "    m = len(X)\n",
        "    n = len(Y)\n",
        "\n",
        "    # Создать таблицу для хранения длин LCS\n",
        "    L = [[0] * (n + 1) for _ in range(m + 1)]\n",
        "\n",
        "    # Заполнение таблицы L\n",
        "    for i in range(m + 1):\n",
        "        for j in range(n + 1):\n",
        "            if i == 0 or j == 0:\n",
        "                L[i][j] = 0\n",
        "            elif X[i - 1] == Y[j - 1]:\n",
        "                L[i][j] = L[i - 1][j - 1] + 1\n",
        "            else:\n",
        "                L[i][j] = max(L[i - 1][j], L[i][j - 1])\n",
        "\n",
        "    # Построение LCS\n",
        "    index = L[m][n]\n",
        "    lcs_sequence = [\"\"] * (index + 1)\n",
        "    lcs_sequence[index] = \"\"\n",
        "\n",
        "    i = m\n",
        "    j = n\n",
        "    while i > 0 and j > 0:\n",
        "        if X[i - 1] == Y[j - 1]:\n",
        "            lcs_sequence[index - 1] = X[i - 1]\n",
        "            i -= 1\n",
        "            j -= 1\n",
        "            index -= 1\n",
        "        elif L[i - 1][j] > L[i][j - 1]:\n",
        "            i -= 1\n",
        "        else:\n",
        "            j -= 1\n",
        "\n",
        "    return \"\".join(lcs_sequence)\n",
        "\n",
        "def main():\n",
        "    X = input(\"Введите первую строку: \")\n",
        "    Y = input(\"Введите вторую строку: \")\n",
        "\n",
        "    result = lcs(X, Y)\n",
        "    print(f\"Длина НОП: {len(result)}\")\n",
        "    print(f\"НОП: {result}\")\n",
        "\n",
        "if __name__ == \"__main__\":\n",
        "    main()"
      ],
      "metadata": {
        "colab": {
          "base_uri": "https://localhost:8080/"
        },
        "id": "IfI9yh2q_4wH",
        "outputId": "7719a77b-fde7-44ab-f35c-03858d0c5af6"
      },
      "execution_count": 11,
      "outputs": [
        {
          "output_type": "stream",
          "name": "stdout",
          "text": [
            "Введите первую строку: 5\n",
            "Введите вторую строку: 10\n",
            "Длина НОП: 0\n",
            "НОП: \n"
          ]
        }
      ]
    }
  ],
  "metadata": {
    "colab": {
      "toc_visible": true,
      "provenance": [],
      "include_colab_link": true
    },
    "kernelspec": {
      "display_name": "Python 3",
      "name": "python3"
    }
  },
  "nbformat": 4,
  "nbformat_minor": 0
}